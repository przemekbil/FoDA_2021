{
 "cells": [
  {
   "cell_type": "markdown",
   "id": "056db126-473b-49a3-9a5a-de667a167ec5",
   "metadata": {},
   "source": [
    "# The Pyplot package\n",
    "\n",
    "[Official Pyplot package documentation](https://matplotlib.org/stable/tutorials/introductory/pyplot.html)\n",
    "\n",
    "***"
   ]
  },
  {
   "cell_type": "markdown",
   "id": "c9acc32c-2314-4c0e-8962-b7ac80b8bacd",
   "metadata": {},
   "source": [
    "Import all the necessary packages "
   ]
  },
  {
   "cell_type": "code",
   "execution_count": 9,
   "id": "603ba131-fd69-4347-a722-7cbf10280553",
   "metadata": {},
   "outputs": [],
   "source": [
    "# For plotting\n",
    "import matplotlib as mpl\n",
    "import matplotlib.pyplot as plt\n",
    "\n",
    "# For numerical manipulation\n",
    "import numpy as np"
   ]
  },
  {
   "cell_type": "markdown",
   "id": "ff4da43e-cbf6-4eb1-bac6-4189c19ef272",
   "metadata": {},
   "source": [
    "## Introduction"
   ]
  },
  {
   "cell_type": "markdown",
   "id": "15ff2be7-7c3b-4914-92a7-185e87b605be",
   "metadata": {},
   "source": [
    "### What is Matplotlib?"
   ]
  },
  {
   "cell_type": "markdown",
   "id": "9878014e-696b-4d38-a476-31c30d413f43",
   "metadata": {},
   "source": [
    "Matplotlib is a multiplatform data visualization Python library, originally created in 2003 as a patch for IPython for enabling interactive MATLAB style plotting from the IPython command line [2]. \n",
    "\n",
    "It is built on NumPy arrays and designed to work with SciPy stack [2]. It's design philosophy is that it should be possible to create simple plots with just a few commands [1] but at the same time it allows high degree of customization of parameters of created plots (colours, markers, line style etc, to name just few).\n",
    "\n",
    "One of its strengths is compatibility with many different operating systems and graphics backends, ensuring correct operation regardless the users platform. This has led to wide adoption of this package by the large userbase which in turn led to large active developer base and the package popularity [2].\n",
    "\n",
    "After being in use for nearly two decades, the interface and style of Matplotlib is showing it's age. It also predates Pandas for over a decade, so it's not designed to be used with Pandas ```DataFrames```. The answer to these weaknesses of Matplotlib is a Seaborn package. It provides a high-level interface on top of Matplotlib and offers large choices for plot styles and customization and defines high-level functions for common statistical plot types [2]. However, because Seaborn is built on top of Matplotlib, full customization of its plots require some knowledge of Matplotlib's concepts and interface [3]."
   ]
  },
  {
   "cell_type": "markdown",
   "id": "0855553b-c5ef-4265-9229-18ec72fb8dc9",
   "metadata": {},
   "source": [
    "### How to install it?"
   ]
  },
  {
   "cell_type": "markdown",
   "id": "53ae9d1a-1425-4a59-8960-c375b33b7e20",
   "metadata": {},
   "source": [
    "Matplotlib package is not a part of Pythons Standard library, and therefore it must be installed before it can be used [4]. It can be installed using pip:\n",
    "\n",
    "```pip\n",
    "python -m pip install -U matplotlib\n",
    "```\n",
    "\n",
    "Matplotlib is also a part of the major Python distributions. If any of the following distributions are installed, there is no need to install Matplotlib separately as it's already included in the package [5]:\n",
    "- Anaconda\n",
    "- ActiveState ActivePython\n",
    "- WinPython"
   ]
  },
  {
   "cell_type": "markdown",
   "id": "8efd1ab0-fad7-45da-8cdc-6ac53b9a152f",
   "metadata": {},
   "source": [
    "### How to use it?"
   ]
  },
  {
   "cell_type": "markdown",
   "id": "f66311e0-c01c-4cb9-b4bc-e3c92594800e",
   "metadata": {},
   "source": [
    "As with any other Python package that is not part of the Python Standard Library, first Matplotlib must be imported before it can be used in the application. Typically, ```plt``` is used as a shorthand for the ```matplotlib.pyplot``` interface and ```mpl``` for the ```matplotlib``` package [2][6]:\n",
    "\n",
    "```python\n",
    "import matplotlib as mpl\n",
    "import matplotlib.pyplot as plt\n",
    "```\n",
    "\n",
    "The ```plt``` interface is what is used most often, although access to some of the plot parameters requires accessing the  ```matplotlib``` directly.\n",
    "\n",
    "\n",
    "Matplotlib is strongly object oriented package and its principal objects are the Figure, the Axes and the Axis objects [6]:\n",
    "- The Figure object is a canvas, on which all the other objects are rendered (Axes, titles, legends etc).\n",
    "- Axes are the objects attached to the Figure that contains a region for the plotting data and include 2 (or 3 for 3D plots) Axis objects\n",
    "- Axis objects (e.g. X and Y axis) set the scale and limits and generate ticks (the marks on the Axis) and ticklabels\n",
    "\n",
    "\n",
    "<div>\n",
    "<img src='https://matplotlib.org/stable/_images/anatomy.png' width=\"500\"/>\n",
    "</div>\n"
   ]
  },
  {
   "cell_type": "markdown",
   "id": "ff68b765-a07a-4257-a2b2-420a77c48412",
   "metadata": {},
   "source": [
    "## References\n",
    "\n",
    "[[1] https://matplotlib.org/cheatsheets/handout-beginner.pdf ](https://matplotlib.org/cheatsheets/handout-beginner.pdf ) </br>\n",
    "[[2] Python Data Science Handbook, Jake VanderPlas, Chapter 4. Visualization with Matplotlib, O'Reilly ](https://www.oreilly.com/library/view/python-data-science/9781491912126/ch04.html )</br>\n",
    "[[3] An introduction to seaborn](http://seaborn.pydata.org/introduction.html)</br>\n",
    "[[4] The Python Standard Library](https://docs.python.org/3/library/)</br>\n",
    "[[5] Matplotlib, Installation](https://matplotlib.org/stable/users/installing/index.html)</br>\n",
    "[[6] Matplotlib, Basic Usage](https://matplotlib.org/stable/tutorials/introductory/usage.html#sphx-glr-tutorials-introductory-usage-py)</br>"
   ]
  },
  {
   "cell_type": "markdown",
   "id": "afd431dc-0276-4ddf-ba34-c8382be59d4e",
   "metadata": {},
   "source": [
    "# End\n"
   ]
  }
 ],
 "metadata": {
  "kernelspec": {
   "display_name": "Python 3 (ipykernel)",
   "language": "python",
   "name": "python3"
  },
  "language_info": {
   "codemirror_mode": {
    "name": "ipython",
    "version": 3
   },
   "file_extension": ".py",
   "mimetype": "text/x-python",
   "name": "python",
   "nbconvert_exporter": "python",
   "pygments_lexer": "ipython3",
   "version": "3.9.7"
  }
 },
 "nbformat": 4,
 "nbformat_minor": 5
}
