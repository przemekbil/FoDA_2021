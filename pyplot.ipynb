{
 "cells": [
  {
   "cell_type": "markdown",
   "id": "056db126-473b-49a3-9a5a-de667a167ec5",
   "metadata": {},
   "source": [
    "# The Pyplot package\n",
    "\n",
    "[Official Pyplot package documentation](https://matplotlib.org/stable/tutorials/introductory/pyplot.html)\n",
    "\n",
    "***"
   ]
  },
  {
   "cell_type": "markdown",
   "id": "c9acc32c-2314-4c0e-8962-b7ac80b8bacd",
   "metadata": {},
   "source": [
    "Import all the necessary packages "
   ]
  },
  {
   "cell_type": "code",
   "execution_count": 1,
   "id": "603ba131-fd69-4347-a722-7cbf10280553",
   "metadata": {},
   "outputs": [],
   "source": [
    "# For plotting\n",
    "import matplotlib as mpl\n",
    "import matplotlib.pyplot as plt\n",
    "\n",
    "# For numerical manipulation\n",
    "import numpy as np"
   ]
  },
  {
   "cell_type": "markdown",
   "id": "ff4da43e-cbf6-4eb1-bac6-4189c19ef272",
   "metadata": {},
   "source": [
    "## Introduction"
   ]
  },
  {
   "cell_type": "markdown",
   "id": "15ff2be7-7c3b-4914-92a7-185e87b605be",
   "metadata": {},
   "source": [
    "### What is Matplotlib?"
   ]
  },
  {
   "cell_type": "markdown",
   "id": "9878014e-696b-4d38-a476-31c30d413f43",
   "metadata": {},
   "source": [
    "Matplotlib is a multiplatform data visualization library for Python, originally created in 2003 as a patch for IPython for enabling interactive MATLAB-style plotting from the IPython command line [2]. \n",
    "\n",
    "It is built on NumPy arrays and designed to work with SciPy stack [2]. Its design philosophy is that it should be possible to create simple plots with just a few commands [1] but at the same time it allows for high degree of customization of parameters of created plots (colours, markers, line style etc, to name just few).\n",
    "\n",
    "One of its strengths is compatibility with many different operating systems and graphics backends, ensuring correct operation regardless the users platform. This has led to wide adoption of this package by the large userbase which in turn led to large active developer base and the package popularity [2].\n",
    "\n",
    "After being in use for nearly two decades, the interface and style of Matplotlib is showing it's age. It also predates Pandas for over a decade, so it's not designed to be used with Pandas ```DataFrames```. The answer to these weaknesses of Matplotlib is a Seaborn package. It provides a high-level interface on top of Matplotlib and offers large choices for plot styles and customization and defines high-level functions for common statistical plot types [2]. However, because Seaborn is built on top of Matplotlib, full customization of its plots require some knowledge of Matplotlib's concepts and interface [3]."
   ]
  },
  {
   "cell_type": "markdown",
   "id": "0855553b-c5ef-4265-9229-18ec72fb8dc9",
   "metadata": {},
   "source": [
    "### How to install it?"
   ]
  },
  {
   "cell_type": "markdown",
   "id": "53ae9d1a-1425-4a59-8960-c375b33b7e20",
   "metadata": {},
   "source": [
    "Matplotlib package is not a part of Pythons Standard library, and therefore it must be installed before it can be used [4]. It can be installed using pip:\n",
    "\n",
    "```pip\n",
    "python -m pip install -U matplotlib\n",
    "```\n",
    "\n",
    "Matplotlib is also a part of the major Python distributions. If any of the following distributions are installed, there is no need to install Matplotlib separately as it's already included in the package [5]:\n",
    "- Anaconda\n",
    "- ActiveState ActivePython\n",
    "- WinPython"
   ]
  },
  {
   "cell_type": "markdown",
   "id": "8efd1ab0-fad7-45da-8cdc-6ac53b9a152f",
   "metadata": {},
   "source": [
    "### How to use it?"
   ]
  },
  {
   "cell_type": "markdown",
   "id": "f66311e0-c01c-4cb9-b4bc-e3c92594800e",
   "metadata": {},
   "source": [
    "As with any other Python package that is not part of the Python Standard Library, first Matplotlib must be imported before it can be used in the application. Typically, ```plt``` is used as a shorthand for the ```matplotlib.pyplot``` interface and ```mpl``` for the ```matplotlib``` package [2][6]:\n",
    "\n",
    "```python\n",
    "import matplotlib as mpl\n",
    "import matplotlib.pyplot as plt\n",
    "```\n",
    "\n",
    "The ```plt``` interface is what is used most often, although access to some of the plot parameters requires calling the  ```matplotlib``` directly.\n",
    "\n",
    "\n",
    "Matplotlib is an object-oriented package and its principal objects are the Figure, the Axes and the Axis objects [6][7]:\n",
    "- The Figure object is a canvas, on which all the other objects (Artists) are rendered (Axes, titles, legends etc).\n",
    "- Axes are the objects attached to the Figure that contains a region for the plotting data and include 2 (or 3 for 3D plots) Axis objects\n",
    "- Axis objects (e.g. X and Y axis) set the scale and limits and generate ticks (the marks on the Axis) and tick labels\n",
    "- Artists are all the elements that are rendered on the figure. This can include Axes, Axis, Titles, Legend. All the items labelled blue on below Figure are Artists.\n",
    "\n",
    "\n",
    "<div>\n",
    "<img src='https://matplotlib.org/stable/_images/anatomy.png' width=\"500\"/>\n",
    "</div>"
   ]
  },
  {
   "cell_type": "markdown",
   "id": "60801bfb-ec9e-4a1c-a17e-53685b34c763",
   "metadata": {},
   "source": [
    "#### State-based interface [7][8]"
   ]
  },
  {
   "cell_type": "markdown",
   "id": "75e59028-7e62-445d-990f-ef7c132c0490",
   "metadata": {},
   "source": [
    "For simple plots it is possible to use only the ```pyplot``` interface. In this approach, various ```pyplot``` commands can be called in sequence and each command will modify some aspect of the same Figure object, without the need of user to explicitly create and call the Figure object. The state of the Figure object is preserved after each ```pyplot``` function call, thus its name state-based interface.\n",
    "\n",
    "An an ilustration for this approach, let's quickly plot a linear $y=x$ and a square functions $y=x^2$:"
   ]
  },
  {
   "cell_type": "code",
   "execution_count": 2,
   "id": "5c01f89b-e1dc-4365-9b34-b41055fe3d83",
   "metadata": {},
   "outputs": [
    {
     "data": {
      "image/png": "[encoded data removed]",
      "text/plain": [
       "<Figure size 432x288 with 1 Axes>"
      ]
     },
     "metadata": {
      "needs_background": "light"
     },
     "output_type": "display_data"
    }
   ],
   "source": [
    "# initialize X and Y=X*X values\n",
    "x = np.linspace(0, 10, 101) \n",
    "y1 = x\n",
    "y2 = np.power(x, 2)\n",
    "\n",
    "\n",
    "# plot the data\n",
    "plt.plot(x, y1, 'g-')\n",
    "plt.plot(x, y2, 'b-')\n",
    "\n",
    "# Set the X axis label\n",
    "plt.xlabel('X', fontsize=12)\n",
    "# Set the Y axis label\n",
    "plt.ylabel('$Y=X^2$', fontsize=12)\n",
    "\n",
    "# Add the legend\n",
    "plt.legend(['Linear function', 'Square function'])\n",
    "\n",
    "# visualize the plot\n",
    "plt.show()"
   ]
  },
  {
   "cell_type": "markdown",
   "id": "45fc5181-a088-44a9-b68e-ce3ff6c41f26",
   "metadata": {},
   "source": [
    "As seen in the example above, the state-based approach consists of series of ```plt``` interface functions calls. Each of these functions changes some of the aspects of the current active Figure or Axes objects. If there is no active Figure object, first ```plt``` function creates its own, including the Axes object. This approach is quick and simple, suitable for a simpler plots but it can get difficult to read when used to plot more complex plots."
   ]
  },
  {
   "cell_type": "markdown",
   "id": "bae84c3e-8e79-45c0-b296-400eb1210808",
   "metadata": {},
   "source": [
    "#### Object-oriented interface [7][8]"
   ]
  },
  {
   "cell_type": "markdown",
   "id": "d95c60b9-9be8-454a-8d6e-bf0788da9cbc",
   "metadata": {},
   "source": [
    "The Matplotlib is object oriented package. The state-based interface masks that fact to make the usage similar to MATLAB interface by putting the functional interface on the top. But in reality, what happens under the hood is that when the first ```plt``` function is called it creates hidden Figure and Axes objects. Their state is changed with each subsequent ```plt``` function call.\n",
    "\n",
    "When working with an object-oriented interface, user explicitly creates and instances of Figure and Axes objects and callst the appropriate functions on these instances. The most common way to create the pair of these objects instances is calling the ```subplots()``` function:\n",
    "```python\n",
    "fig, ax = plt.subplots()\n",
    "```\n",
    "- fig - an instance of the Figure object\n",
    "- ax - an instance of the Axes object\n",
    "\n",
    "Let's use this approach to recreate the plot above for linear $y=x$ and a square functions $y=x^2$:"
   ]
  },
  {
   "cell_type": "code",
   "execution_count": 3,
   "id": "be31cb07-daa9-4802-a59d-b9176168e0a2",
   "metadata": {},
   "outputs": [
    {
     "data": {
      "image/png": "[encoded data removed]",
      "text/plain": [
       "<Figure size 432x288 with 1 Axes>"
      ]
     },
     "metadata": {
      "needs_background": "light"
     },
     "output_type": "display_data"
    }
   ],
   "source": [
    "# initialize an instances of Figure and Axes objects\n",
    "fig, ax = plt.subplots()\n",
    "\n",
    "# Set the labels\n",
    "ax.set_xlabel('X', fontsize=12)\n",
    "ax.set_ylabel('Y', fontsize=12)\n",
    "\n",
    "# Plot the data onto the Axes object\n",
    "ax.plot(x, y1, 'g-')\n",
    "ax.plot(x, y2, 'b-')\n",
    "\n",
    "# Add the Legend Artist to the Figure object\n",
    "fig.legend(['Linear function', 'Square function'])\n",
    "\n",
    "# Show the plot\n",
    "plt.show()"
   ]
  },
  {
   "cell_type": "markdown",
   "id": "351ab6cd-6000-472a-8785-406571c1231a",
   "metadata": {},
   "source": [
    "The above example yields the same results using both approches. The main difference is, that using object-oriented interface, ```plot()``` and ```set_xlabel(), set_ylabel()``` functions are called explicitly on the instance of the Axes object and the ```legend()``` function is explicitly called on the instance of Figure object. In the state-based interface, these functions are called from the ```plt``` interface which executes these functions on the active Figure or Axes objects which are obscured to the user.\n",
    "\n",
    "Object-oriented interface offers functionality that is not easily availaable through the state-based interface, for example using separate y-axis for plots of 2 different functions plotted on the same Figure:"
   ]
  },
  {
   "cell_type": "code",
   "execution_count": 4,
   "id": "089af623-1e4c-4f25-8f22-542fff790770",
   "metadata": {},
   "outputs": [
    {
     "data": {
      "image/png": "[encoded data removed]",
      "text/plain": [
       "<Figure size 432x288 with 2 Axes>"
      ]
     },
     "metadata": {
      "needs_background": "light"
     },
     "output_type": "display_data"
    }
   ],
   "source": [
    "# initialize an instances of Figure and Axes objects\n",
    "fig, ax1 = plt.subplots()\n",
    "\n",
    "# Set the labels\n",
    "ax1.set_xlabel('X', fontsize=12)\n",
    "ax1.set_ylabel('Y=X', fontsize=12)\n",
    "# Plot the data onto the Axes object\n",
    "ax1.plot(x, y1, 'g-')\n",
    "\n",
    "# create another Axes that share the x-axis\n",
    "ax2 = ax1.twinx()\n",
    "ax2.set_ylabel('$Y=X^2$', fontsize=12)\n",
    "ax2.plot(x, y2, 'b-')\n",
    "\n",
    "# Add the Legend Artist to the Figure object\n",
    "fig.legend(['Linear function', 'Square function'])\n",
    "\n",
    "# Show the plot\n",
    "plt.show()"
   ]
  },
  {
   "cell_type": "markdown",
   "id": "ff68b765-a07a-4257-a2b2-420a77c48412",
   "metadata": {
    "tags": []
   },
   "source": [
    "## References\n",
    "\n",
    "[[1] https://matplotlib.org/cheatsheets/handout-beginner.pdf](https://matplotlib.org/cheatsheets/handout-beginner.pdf )</br>\n",
    "[[2] Python Data Science Handbook, Jake VanderPlas, Chapter 4. Visualization with Matplotlib, O'Reilly](https://www.oreilly.com/library/view/python-data-science/9781491912126/ch04.html )</br>\n",
    "[[3] An introduction to seaborn](http://seaborn.pydata.org/introduction.html)</br>\n",
    "[[4] The Python Standard Library](https://docs.python.org/3/library/)</br>\n",
    "[[5] Matplotlib, Installation](https://matplotlib.org/stable/users/installing/index.html)</br>\n",
    "[[6] Matplotlib, Basic Usage](https://matplotlib.org/stable/tutorials/introductory/usage.html#sphx-glr-tutorials-introductory-usage-py)</br>\n",
    "[[7] Pyplot vs Object Oriented Interface](https://matplotlib.org/matplotblog/posts/pyplot-vs-object-oriented-interface/)</br>\n",
    "[[8] Matplotlib and the Object-Oriented Interface](https://danielmuellerkomorowska.com/2020/07/05/matplotlib-and-the-object-oriented-interface/)</br>"
   ]
  },
  {
   "cell_type": "markdown",
   "id": "afd431dc-0276-4ddf-ba34-c8382be59d4e",
   "metadata": {},
   "source": [
    "# End"
   ]
  }
 ],
 "metadata": {
  "kernelspec": {
   "display_name": "Python 3 (ipykernel)",
   "language": "python",
   "name": "python3"
  },
  "language_info": {
   "codemirror_mode": {
    "name": "ipython",
    "version": 3
   },
   "file_extension": ".py",
   "mimetype": "text/x-python",
   "name": "python",
   "nbconvert_exporter": "python",
   "pygments_lexer": "ipython3",
   "version": "3.9.7"
  }
 },
 "nbformat": 4,
 "nbformat_minor": 5
}
