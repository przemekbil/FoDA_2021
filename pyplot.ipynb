{
 "cells": [
  {
   "cell_type": "markdown",
   "id": "056db126-473b-49a3-9a5a-de667a167ec5",
   "metadata": {},
   "source": [
    "# The Pyplot package\n",
    "\n",
    "[Official Pyplot package documentation](https://matplotlib.org/stable/tutorials/introductory/pyplot.html)\n",
    "\n",
    "***"
   ]
  },
  {
   "cell_type": "markdown",
   "id": "c9acc32c-2314-4c0e-8962-b7ac80b8bacd",
   "metadata": {},
   "source": [
    "Import all the necessary packages "
   ]
  },
  {
   "cell_type": "code",
   "execution_count": null,
   "id": "603ba131-fd69-4347-a722-7cbf10280553",
   "metadata": {},
   "outputs": [],
   "source": [
    "import matplotlib.pyplot as plt"
   ]
  },
  {
   "cell_type": "code",
   "execution_count": null,
   "id": "924e9a52-21ca-470c-ae29-5ba6f84b3abc",
   "metadata": {},
   "outputs": [],
   "source": []
  },
  {
   "cell_type": "code",
   "execution_count": null,
   "id": "df08b8ad-7e04-48eb-939f-9ddca781df3a",
   "metadata": {},
   "outputs": [],
   "source": []
  },
  {
   "cell_type": "markdown",
   "id": "ff68b765-a07a-4257-a2b2-420a77c48412",
   "metadata": {},
   "source": [
    "## References\n",
    "\n"
   ]
  },
  {
   "cell_type": "markdown",
   "id": "afd431dc-0276-4ddf-ba34-c8382be59d4e",
   "metadata": {},
   "source": [
    "# End\n"
   ]
  }
 ],
 "metadata": {
  "kernelspec": {
   "display_name": "Python 3 (ipykernel)",
   "language": "python",
   "name": "python3"
  },
  "language_info": {
   "codemirror_mode": {
    "name": "ipython",
    "version": 3
   },
   "file_extension": ".py",
   "mimetype": "text/x-python",
   "name": "python",
   "nbconvert_exporter": "python",
   "pygments_lexer": "ipython3",
   "version": "3.8.11"
  }
 },
 "nbformat": 4,
 "nbformat_minor": 5
}
