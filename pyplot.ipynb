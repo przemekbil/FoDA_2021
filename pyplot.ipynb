{
 "cells": [
  {
   "cell_type": "markdown",
   "id": "056db126-473b-49a3-9a5a-de667a167ec5",
   "metadata": {},
   "source": [
    "# The Pyplot package\n",
    "\n",
    "[Official Pyplot package documentation](https://matplotlib.org/stable/tutorials/introductory/pyplot.html)\n",
    "\n",
    "***"
   ]
  },
  {
   "cell_type": "markdown",
   "id": "c9acc32c-2314-4c0e-8962-b7ac80b8bacd",
   "metadata": {},
   "source": [
    "Import all the necessary packages "
   ]
  },
  {
   "cell_type": "code",
   "execution_count": null,
   "id": "603ba131-fd69-4347-a722-7cbf10280553",
   "metadata": {},
   "outputs": [],
   "source": [
    "# For plotting\n",
    "import matplotlib as mpl\n",
    "from matplotlib import pyplot as plt, colors\n",
    "\n",
    "# For numerical manipulation\n",
    "import numpy as np\n",
    "\n",
    "# for working with data tables\n",
    "import pandas as pd"
   ]
  },
  {
   "cell_type": "markdown",
   "id": "ff4da43e-cbf6-4eb1-bac6-4189c19ef272",
   "metadata": {},
   "source": [
    "## Introduction"
   ]
  },
  {
   "cell_type": "markdown",
   "id": "15ff2be7-7c3b-4914-92a7-185e87b605be",
   "metadata": {},
   "source": [
    "### What is Matplotlib?"
   ]
  },
  {
   "cell_type": "markdown",
   "id": "9878014e-696b-4d38-a476-31c30d413f43",
   "metadata": {},
   "source": [
    "Matplotlib is a multiplatform data visualization library for Python, originally created in 2003 as a patch for IPython for enabling interactive MATLAB-style plotting from the IPython command line [2]. \n",
    "\n",
    "It is built on NumPy arrays and designed to work with SciPy stack [2]. Its design philosophy is that it should be possible to create simple plots with just a few commands [1] but at the same time it allows for high degree of customization of parameters of created plots (colours, markers, line style etc, to name just few).\n",
    "\n",
    "One of its strengths is compatibility with many different operating systems and graphics backends, ensuring correct operation regardless the users platform. This has led to wide adoption of this package by the large userbase which in turn led to large active developer base and the package popularity [2].\n",
    "\n",
    "After being in use for nearly two decades, the interface and style of Matplotlib is showing it's age. It also predates Pandas for over a decade, so it's not designed to be used with Pandas ```DataFrames```. The answer to these weaknesses of Matplotlib is a Seaborn package. It provides a high-level interface on top of Matplotlib and offers large choices for plot styles and customization and defines high-level functions for common statistical plot types [2]. However, because Seaborn is built on top of Matplotlib, full customization of its plots require some knowledge of Matplotlib's concepts and interface [3]. Therefore, it's a good idea to learn how to use Matplotlib first before adopting Seaborn."
   ]
  },
  {
   "cell_type": "markdown",
   "id": "0855553b-c5ef-4265-9229-18ec72fb8dc9",
   "metadata": {},
   "source": [
    "### How to install it?"
   ]
  },
  {
   "cell_type": "markdown",
   "id": "53ae9d1a-1425-4a59-8960-c375b33b7e20",
   "metadata": {},
   "source": [
    "Matplotlib package is not a part of Pythons Standard library, and therefore it must be installed before it can be used [4]. It can be installed using pip:\n",
    "\n",
    "```\n",
    "python -m pip install -U matplotlib\n",
    "```\n",
    "\n",
    "Matplotlib is also a part of the major Python distributions. If any of the following distributions are installed, there is no need to install Matplotlib separately as it's already included in the package [5]:\n",
    "- Anaconda\n",
    "- ActiveState ActivePython\n",
    "- WinPython"
   ]
  },
  {
   "cell_type": "markdown",
   "id": "8efd1ab0-fad7-45da-8cdc-6ac53b9a152f",
   "metadata": {},
   "source": [
    "### How to use it?"
   ]
  },
  {
   "cell_type": "markdown",
   "id": "f66311e0-c01c-4cb9-b4bc-e3c92594800e",
   "metadata": {},
   "source": [
    "As with any other Python package that is not part of the Python Standard Library, first Matplotlib must be imported before it can be used in the application. Typically, ```plt``` is used as a shorthand for the ```matplotlib.pyplot``` interface and ```mpl``` for the ```matplotlib``` package [2][6]:\n",
    "\n",
    "```python\n",
    "import matplotlib as mpl\n",
    "import matplotlib.pyplot as plt\n",
    "```\n",
    "\n",
    "The ```plt``` interface is what is used most often, although access to some of the plot parameters requires calling the  ```matplotlib``` directly.\n",
    "\n",
    "\n",
    "Matplotlib is an object-oriented package and its principal objects are the Figure, the Axes and the Axis objects [6][7]:\n",
    "- The Figure object is a canvas, on which all the other objects (Artists) are rendered (Axes, titles, legends etc).\n",
    "- Axes are the objects attached to the Figure that contains a region for the plotting data and include 2 (or 3 for 3D plots) Axis objects\n",
    "- Axis objects (e.g. X and Y axis) set the scale and limits and generate ticks (the marks on the Axis) and tick labels\n",
    "- Artists are all the elements that are rendered on the figure. This can include Axes, Axis, Titles, Legend. All the items labelled blue on below figure are Artists.\n",
    "\n",
    "\n",
    "<div>\n",
    "<img src='https://matplotlib.org/stable/_images/anatomy.png' width=\"500\"/>\n",
    "</div>"
   ]
  },
  {
   "cell_type": "markdown",
   "id": "60801bfb-ec9e-4a1c-a17e-53685b34c763",
   "metadata": {},
   "source": [
    "#### State-based interface [7][8]"
   ]
  },
  {
   "cell_type": "markdown",
   "id": "75e59028-7e62-445d-990f-ef7c132c0490",
   "metadata": {},
   "source": [
    "For simple plots it is possible to use only the ```pyplot``` interface. In this approach, various ```pyplot``` commands can be called in sequence and each command will modify some aspect of the same Figure object, without the need of user to explicitly create and call the Figure object instance. The state of the Figure instance is preserved after each ```pyplot``` function call, thus its name state-based interface.\n",
    "\n",
    "An an ilustration for this approach, let's quickly plot a square function $y=x^2$:"
   ]
  },
  {
   "cell_type": "code",
   "execution_count": null,
   "id": "5c01f89b-e1dc-4365-9b34-b41055fe3d83",
   "metadata": {},
   "outputs": [],
   "source": [
    "# initialize X and Y=X*X values\n",
    "x = np.linspace(0, 10, 101) \n",
    "y = np.power(x, 2)\n",
    "\n",
    "\n",
    "# let's plot the square function\n",
    "plt.plot(x, y)     \n",
    "\n",
    "# visualize the plot\n",
    "plt.show()"
   ]
  },
  {
   "cell_type": "markdown",
   "id": "4296b196-83a3-4297-aa44-cfca78848d70",
   "metadata": {},
   "source": [
    "The state-based interface is a no hassle method of creating simple plots quickly and it is well suited for in-process calculation validation, quick function visualisation etc. \n",
    "\n",
    "It is possible to plot more than one function on a single graph and customise the output by labelling the Axis, adding the legend or modifying the colour of the plotted lines. To ilustrate this, let's plot a square function with a green line and linear function with a red line on a single plot:"
   ]
  },
  {
   "cell_type": "code",
   "execution_count": null,
   "id": "a09cb932-262b-4111-97c4-a8ed024a635e",
   "metadata": {},
   "outputs": [],
   "source": [
    "# initialize X and Y1 for linear function and Y2 values for the square function\n",
    "x = np.linspace(0, 10, 101) \n",
    "y1 = x\n",
    "y2 = np.power(x, 2)\n",
    "\n",
    "\n",
    "# plot both function\n",
    "plt.plot(x, y1, 'r-')         # use red line for linear function\n",
    "plt.plot(x, y2, 'g.')         # use green dots for the square function\n",
    "\n",
    "# Set the X axis label\n",
    "plt.xlabel('X', fontsize=12)\n",
    "# Set the Y axis label\n",
    "plt.ylabel('Y', fontsize=12)\n",
    "\n",
    "# Add the legend\n",
    "plt.legend(['Linear function', 'Square function'], loc='upper center')\n",
    "\n",
    "# Set the top Spine to invisible\n",
    "# Access to Artists attached to the current active instance of Axes\n",
    "# is possible using gca() - 'get current axes' method\n",
    "plt.gca().spines['top'].set_visible(False)\n",
    "\n",
    "# visualize the plot\n",
    "plt.show()"
   ]
  },
  {
   "cell_type": "markdown",
   "id": "45fc5181-a088-44a9-b68e-ce3ff6c41f26",
   "metadata": {},
   "source": [
    "As seen in the examples above, the state-based approach consists of series of ```plt``` interface functions calls and each changes one aspect of the active Figures state. It's very powerful in its simplicity as it lets the end user to create plots with just few commands and offers fair degree of customization.\n",
    "\n",
    "This method has its limitation: as these functions are not called explicitly on the Figure/Axes instances, it is hard for the end user to read the code. What's more, modifying Artists attached to Axes/Figure requires calling ```gca()``` (get current Axes) or ```gcf()``` (get current Figure) methods and when there are more than one instances of Axes used, it's not as clear as calling these instances explicitly. Cue the object-oriented interface:"
   ]
  },
  {
   "cell_type": "markdown",
   "id": "bae84c3e-8e79-45c0-b296-400eb1210808",
   "metadata": {},
   "source": [
    "#### Object-oriented interface [7][8]"
   ]
  },
  {
   "cell_type": "markdown",
   "id": "d95c60b9-9be8-454a-8d6e-bf0788da9cbc",
   "metadata": {},
   "source": [
    "The Matplotlib is object oriented package. The state-based interface masks that fact to make the usage similar to MATLAB interface by putting the functional interface on the top. But in reality, what happens under the hood is that when the first ```plt``` function is called it creates hidden Figure and Axes objects instances. Their state is changed with each subsequent ```plt``` function call.\n",
    "\n",
    "When working with an object-oriented interface, user explicitly creates instances of Figure and Axes objects and callst the appropriate functions on these instances. The most common way to create the pair of these objects instances is calling the ```subplots()``` function:\n",
    "```python\n",
    "fig, ax = plt.subplots()\n",
    "```\n",
    "- fig - an instance of the Figure object\n",
    "- ax - an instance of the Axes object\n",
    "\n",
    "Let's use this approach to recreate the plot above for linear $y=x$ and a square functions $y=x^2$:"
   ]
  },
  {
   "cell_type": "code",
   "execution_count": null,
   "id": "be31cb07-daa9-4802-a59d-b9176168e0a2",
   "metadata": {},
   "outputs": [],
   "source": [
    "# initialize an instances of Figure and Axes objects\n",
    "fig, ax = plt.subplots()\n",
    "\n",
    "# Set the labels on the Axes instance\n",
    "ax.set_xlabel('X', fontsize=12)\n",
    "ax.set_ylabel('Y', fontsize=12)\n",
    "\n",
    "# Plot the data onto the Axes instance\n",
    "ax.plot(x, y1, 'r-')\n",
    "ax.plot(x, y2, 'g.')\n",
    "\n",
    "# Add the Legend Artist to the Figure instance\n",
    "fig.legend(['Linear function', 'Square function'], loc='upper center')\n",
    "\n",
    "# Set the top Spine in both Axes to invisible\n",
    "# This is much cleaner way of accessing Spine objects comparing to the \n",
    "# State-based interface method: plt.gca().spines['top'].set_visible(False)\n",
    "ax.spines['top'].set_visible(False)\n",
    "\n",
    "# Show the plot\n",
    "plt.show()"
   ]
  },
  {
   "cell_type": "markdown",
   "id": "351ab6cd-6000-472a-8785-406571c1231a",
   "metadata": {},
   "source": [
    "The above example yields the same results using both approches. The main difference is, that using object-oriented interface, ```plot()``` and ```set_xlabel(), set_ylabel()``` functions are called explicitly on the instance of the Axes object and the ```legend()``` function is explicitly called on the instance of Figure object. In the state-based interface, these functions are called from the ```plt``` interface which executes these functions on the active Figure or Axes instances which are obscured from the user. What's more, since we have an explicit access to the Axes instance ```spines['top'].set_visible(False)``` function can be called  directly on this instance and there is no need to call ```plt.gca()``` function to get the current active instance of Axes object like in the state based interface. This is much cleaner way of accessing the elements of the Axes, especially when working with more than one Axes instances in one Figure.\n",
    "\n",
    "Object-oriented interface offers functionality that is not easily available through the state-based interface, for example using separate y-axis for plots of 2 different functions plotted on the same Figure:"
   ]
  },
  {
   "cell_type": "code",
   "execution_count": null,
   "id": "089af623-1e4c-4f25-8f22-542fff790770",
   "metadata": {},
   "outputs": [],
   "source": [
    "# initialize an instances of Figure and Axes objects\n",
    "fig, ax1 = plt.subplots()\n",
    "\n",
    "# Set the labels\n",
    "ax1.set_xlabel('X', fontsize=12)\n",
    "ax1.set_ylabel('Y=X', fontsize=12)\n",
    "# Plot the data onto the Axes object\n",
    "ax1.plot(x, y1, 'r-')\n",
    "\n",
    "# create another Axes that share the x-axis\n",
    "ax2 = ax1.twinx()\n",
    "ax2.set_ylabel('$Y=X^2$', fontsize=12)\n",
    "ax2.plot(x, y2, 'g.')\n",
    "\n",
    "# Add the Legend Artist to the Figure object\n",
    "fig.legend( ['Linear function', 'Square function'], loc='upper center')\n",
    "\n",
    "# Set the top Spine in both Axes to invisible\n",
    "# This is much cleaner way of accessing Spine objects comparing to the \n",
    "# State-based interface method: plt.gca().spines['top'].set_visible(False)\n",
    "ax1.spines['top'].set_visible(False)\n",
    "ax2.spines['top'].set_visible(False)\n",
    "\n",
    "# Show the plot\n",
    "plt.show()"
   ]
  },
  {
   "cell_type": "markdown",
   "id": "baacb13b-6de9-4d58-aa75-feb0bcb184f7",
   "metadata": {},
   "source": [
    "## Example plots"
   ]
  },
  {
   "cell_type": "markdown",
   "id": "abb5544c-5799-4c12-8add-cd8b1bfa5172",
   "metadata": {},
   "source": [
    "### Scatter plot"
   ]
  },
  {
   "cell_type": "markdown",
   "id": "b12d0d1a-1e94-40d8-90c9-1bd34add13d6",
   "metadata": {},
   "source": [
    "##### Download Iris dataset to plot"
   ]
  },
  {
   "cell_type": "code",
   "execution_count": null,
   "id": "711b9ea1-b701-4258-b5a7-689f878b6a40",
   "metadata": {},
   "outputs": [],
   "source": [
    "# Iris dataset downloaded as per:\n",
    "# https://www.angela1c.com/projects/iris_project/downloading-iris/\n",
    "\n",
    "csv_url = 'https://archive.ics.uci.edu/ml/machine-learning-databases/iris/iris.data'\n",
    "# using the attribute information as the column names\n",
    "col_names = ['Sepal_Length','Sepal_Width','Petal_Length','Petal_Width','Class']\n",
    "iris =  pd.read_csv(csv_url, names = col_names)"
   ]
  },
  {
   "cell_type": "markdown",
   "id": "8fc1c9d0-bb16-4e68-ab67-2625b1c8ebcc",
   "metadata": {},
   "source": [
    "##### Add scatter plot of Sepal Length vs Sepal Width for each Iris class"
   ]
  },
  {
   "cell_type": "code",
   "execution_count": null,
   "id": "eb5dfe17-1d69-4c62-896d-27e044d4dffb",
   "metadata": {},
   "outputs": [],
   "source": [
    "plt.style.use('seaborn')                        # Set the style of plotting to 'seaborn', all styles here: https://matplotlib.org/stable/gallery/style_sheets/style_sheets_reference.html\n",
    "\n",
    "fig, ax = plt.subplots(\n",
    "    figsize=(10,6),                             # specify the size of the Figure\n",
    "    dpi = 75                                    # specify resolution in dots per inch\n",
    ")\n",
    "\n",
    "# Iterate through classes in iris dataset\n",
    "# This loop will result in adding 3 scatter plots to the 'ax' Axes, one for each iris Class\n",
    "for c in iris['Class'].unique():\n",
    "    ax.scatter(\n",
    "        iris[iris['Class']==c]['Sepal_Length'], # X values \n",
    "        iris[iris['Class']==c]['Sepal_Width'],  # Y values\n",
    "        label=c,                                # Use the class as a label\n",
    "        marker=\".\",                             # Marker type, for list of possible values check: https://matplotlib.org/stable/api/markers_api.html#module-matplotlib.markers\n",
    "        s=80                                    # Marker size, default is plt.rcParams['lines.markersize'] ** 2\n",
    "    )\n",
    "\n",
    "# Set the labels on the Axes instance\n",
    "ax.set_xlabel('Sepal Length', fontsize=12)\n",
    "ax.set_ylabel('Sepal Width', fontsize=12)\n",
    "\n",
    "# Add gridlines\n",
    "ax.grid(which='major',                          # major, minor or both\n",
    "        color='darkgrey',                       # Specify the color of gridlines \n",
    "        linestyle='--',                         # Specify style of the gridlines\n",
    "        linewidth=0.5                           # \n",
    "       )\n",
    "\n",
    "# Add legend to the Figure\n",
    "fig.legend(\n",
    "    title=\"Species\",                            # Optional title for the legend\n",
    "    loc='upper center',                         # Location of the legend\n",
    "    mode='expand',                              # Mode of the legend: expand or none, if expand items in thelegend will be\n",
    "    ncol=len(iris['Class'].unique())            # listed in the 'ncol' number of columns\n",
    "    )\n",
    "\n",
    "plt.show()"
   ]
  },
  {
   "cell_type": "markdown",
   "id": "42b169d4-aeb0-42a2-84cf-272de6624472",
   "metadata": {},
   "source": [
    "#### Use colour to represent continuous variable"
   ]
  },
  {
   "cell_type": "markdown",
   "id": "23cd700c-5cc5-48d1-a8e8-e6d547acb1fc",
   "metadata": {},
   "source": [
    "##### Download and clean a NASA Exoplanets dataset"
   ]
  },
  {
   "cell_type": "code",
   "execution_count": null,
   "id": "10e6d0e6-fa66-41d1-a84d-1edea6bc54b8",
   "metadata": {},
   "outputs": [],
   "source": [
    "# Download a Planets Dataset from the Seaborn example data set repository (originated from the NASA Exoplanet)\n",
    "url = 'https://raw.githubusercontent.com/mwaskom/seaborn-data/master/planets.csv'\n",
    "planets = pd.read_csv(url)"
   ]
  },
  {
   "cell_type": "code",
   "execution_count": null,
   "id": "0736a0f1-dcf6-4cd8-9aa4-0cd011274fd5",
   "metadata": {},
   "outputs": [],
   "source": [
    "# Depending on the metheod of plantes discovery and other circumstances, some of the planets missing one ore more parameters\n",
    "# I'm removing the rows that have missing values as this dataset is used only to demonstrate the use of a scatterplot and I'm not concern with actually analysing this dataset\n",
    "planets.dropna(axis=0, inplace=True)\n",
    "planets.head()"
   ]
  },
  {
   "cell_type": "code",
   "execution_count": null,
   "id": "5954b916-2a7c-4a44-a311-236b57c5e262",
   "metadata": {},
   "outputs": [],
   "source": [
    "mpl.rcParams.update(mpl.rcParamsDefault)\n",
    "\n",
    "# Use classic plot style\n",
    "mpl.style.use('classic')\n",
    "\n",
    "# Created with help of this article:\n",
    "# https://www.tutorialspoint.com/how-can-i-convert-numbers-to-a-color-scale-in-matplotlib\n",
    "fig, ax = plt.subplots(\n",
    "    figsize=(10,6),                             # specify the size of the Figure\n",
    "    dpi = 75                                    # specify resolution in dots per inch\n",
    "                      )\n",
    "\n",
    "\n",
    "cmap = plt.cm.Spectral\n",
    "norm = colors.Normalize(vmin=np.log10(planets.mass).min(), vmax=np.log10(planets.mass).max())\n",
    "\n",
    "\n",
    "ax.scatter(\n",
    "    planets.orbital_period,                     # Use planets orbital period as an X axis\n",
    "    planets.distance,                           # Use planets distance to it's star as a Y axis\n",
    "    color = cmap(norm( np.log10(planets.mass )))  # Use a base 10 logaritm of a mass as a color of a datapoint\n",
    ")\n",
    "\n",
    "# Set both Axis to logaritmic scale, as both the 'orbital period' and the 'distance' span several orders or magnitude\n",
    "ax.set_xscale('log')\n",
    "ax.set_yscale('log')\n",
    "\n",
    "# Set the labels on the Axes instance\n",
    "ax.set_xlabel('Orbital period', fontsize=12)\n",
    "ax.set_ylabel('Distance', fontsize=12)\n",
    "\n",
    "\n",
    "sm = plt.cm.ScalarMappable(cmap=cmap, norm=norm)\n",
    "fig.colorbar(sm)\n",
    "\n",
    "plt.show()"
   ]
  },
  {
   "cell_type": "code",
   "execution_count": null,
   "id": "2522cc60-8f7b-4981-a187-5410023f676e",
   "metadata": {},
   "outputs": [],
   "source": []
  },
  {
   "cell_type": "code",
   "execution_count": null,
   "id": "e69001ac-b8ac-45d3-adc7-d16be3dfdc91",
   "metadata": {},
   "outputs": [],
   "source": [
    "# Only numeric columns selected from Iris df as per:\n",
    "# https://stackoverflow.com/questions/25039626/how-do-i-find-numeric-columns-in-pandas\n",
    "numerics = ['int16', 'int32', 'int64', 'float16', 'float32', 'float64']\n",
    "columns = iris.select_dtypes(include=numerics).columns\n",
    "nr = len(columns)"
   ]
  },
  {
   "cell_type": "markdown",
   "id": "cf95e673-c314-406b-9164-030b8c8af0fe",
   "metadata": {},
   "source": [
    "##### Plot scatter plot for each combination of 'iris' column"
   ]
  },
  {
   "cell_type": "code",
   "execution_count": null,
   "id": "8cec1b8a-b494-418e-98c0-ea3e0f133414",
   "metadata": {},
   "outputs": [],
   "source": [
    "# Reset Matplot style back to default, as per:\n",
    "# https://stackoverflow.com/questions/26413185/how-to-recover-matplotlib-defaults-after-setting-stylesheet\n",
    "mpl.rcParams.update(mpl.rcParamsDefault)\n",
    "\n",
    "mpl.style.use('seaborn')        # Set the style of plotting to 'seaborn', all styles here: https://matplotlib.org/stable/gallery/style_sheets/style_sheets_reference.html\n",
    "\n",
    "fig, ax = plt.subplots(nr,nr, figsize=(15,10))\n",
    "\n",
    "cmap = plt.cm.tab10\n",
    "\n",
    "# Set figures background colour\n",
    "fig.patch.set_facecolor(\"whitesmoke\")\n",
    "\n",
    "# Add a title for the whole Figure\n",
    "fig.suptitle('Scatter plot for every pair of columns in Iris dataset', fontsize=16)\n",
    "\n",
    "# initiate Axes column counter\n",
    "ix=0\n",
    "# iterate through 'iris' tables columns for X scatter plot\n",
    "for cx in columns:\n",
    "    # initiate Axes row counter\n",
    "    iy=0\n",
    "    # iterate through 'iris' tables columns for Y scatter plot\n",
    "    for cy in columns:\n",
    "        # Iterate through classes in iris dataset\n",
    "        # This loop will result in adding 3 scatter plots to the 'ax[iy, ix]' Axes, one for each iris Class\n",
    "        for c in iris['Class'].unique():\n",
    "            ax[iy, ix].scatter(\n",
    "                iris[iris['Class']==c][cx],             # 'cx' column as X values \n",
    "                iris[iris['Class']==c][cy],             # 'cy' column as Y values\n",
    "                label=c,                                # Use the class as a label\n",
    "                marker=\".\",                             # Marker type, for list of possible values check: https://matplotlib.org/stable/api/markers_api.html#module-matplotlib.markers\n",
    "                s=30                                    # Marker size, default is plt.rcParams['lines.markersize'] ** 2\n",
    "            )\n",
    "            # Set title for each Axes, to show in which order Axes are displayed from the 4x4 array \n",
    "            ax[iy, ix].set_title(\"ax[{}, {}]\".format(iy, ix))\n",
    "            \n",
    "            # Set the labels only at the bottom Axes:\n",
    "            if iy==np.size(ax, 1) - 1:\n",
    "                ax[iy, ix].set_xlabel(cx, fontsize=12)\n",
    "            elif iy==0:\n",
    "                # For the top most row, move X ticks and the label to the top\n",
    "                ax[iy, ix].xaxis.tick_top()\n",
    "                ax[iy, ix].xaxis.set_label_position(\"top\")\n",
    "                ax[iy, ix].set_xlabel(cx, fontsize=12)\n",
    "            # Remove the x tick labels if the Axes are not the bottoms ones\n",
    "            else:\n",
    "                # Remove x ticks for the middle rows\n",
    "                ax[iy, ix].set_xticklabels([])\n",
    "                \n",
    "            # Set the labels only at the most left Axes:                \n",
    "            if ix==0:\n",
    "                ax[iy, ix].set_ylabel(cy, fontsize=12)\n",
    "            elif ix==np.size(ax, 0) - 1:\n",
    "                # For the rifgt most column, move Y ticks and the labels to the Right\n",
    "                ax[iy, ix].yaxis.tick_right()\n",
    "                ax[iy, ix].yaxis.set_label_position(\"right\")\n",
    "                ax[iy, ix].set_ylabel(cy, fontsize=12)                \n",
    "            # Remove the y tick labels if the Axes are not the most left ones\n",
    "            else:\n",
    "                ax[iy, ix].set_yticklabels([])\n",
    "        iy+=1\n",
    "    ix+=1\n",
    "\n",
    "plt.show()"
   ]
  },
  {
   "cell_type": "markdown",
   "id": "ff68b765-a07a-4257-a2b2-420a77c48412",
   "metadata": {
    "tags": []
   },
   "source": [
    "## References\n",
    "\n",
    "[[1] https://matplotlib.org/cheatsheets/handout-beginner.pdf](https://matplotlib.org/cheatsheets/handout-beginner.pdf )</br>\n",
    "[[2] Python Data Science Handbook, Jake VanderPlas, Chapter 4. Visualization with Matplotlib, O'Reilly](https://www.oreilly.com/library/view/python-data-science/9781491912126/ch04.html )</br>\n",
    "[[3] An introduction to seaborn](http://seaborn.pydata.org/introduction.html)</br>\n",
    "[[4] The Python Standard Library](https://docs.python.org/3/library/)</br>\n",
    "[[5] Matplotlib, Installation](https://matplotlib.org/stable/users/installing/index.html)</br>\n",
    "[[6] Matplotlib, Basic Usage](https://matplotlib.org/stable/tutorials/introductory/usage.html#sphx-glr-tutorials-introductory-usage-py)</br>\n",
    "[[7] Pyplot vs Object Oriented Interface](https://matplotlib.org/matplotblog/posts/pyplot-vs-object-oriented-interface/)</br>\n",
    "[[8] Matplotlib and the Object-Oriented Interface](https://danielmuellerkomorowska.com/2020/07/05/matplotlib-and-the-object-oriented-interface/)</br>"
   ]
  },
  {
   "cell_type": "markdown",
   "id": "afd431dc-0276-4ddf-ba34-c8382be59d4e",
   "metadata": {},
   "source": [
    "# End"
   ]
  }
 ],
 "metadata": {
  "kernelspec": {
   "display_name": "Python 3 (ipykernel)",
   "language": "python",
   "name": "python3"
  },
  "language_info": {
   "codemirror_mode": {
    "name": "ipython",
    "version": 3
   },
   "file_extension": ".py",
   "mimetype": "text/x-python",
   "name": "python",
   "nbconvert_exporter": "python",
   "pygments_lexer": "ipython3",
   "version": "3.9.7"
  }
 },
 "nbformat": 4,
 "nbformat_minor": 5
}
