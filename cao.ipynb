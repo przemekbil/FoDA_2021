{
 "cells": [
  {
   "cell_type": "markdown",
   "id": "96aa6171-4e51-405b-8998-6f14ed8f1cc3",
   "metadata": {},
   "source": [
    "# CAO Points Notebook\n",
    "\n",
    "***"
   ]
  },
  {
   "cell_type": "markdown",
   "id": "31d62994-45b4-4adb-951d-20df06b67040",
   "metadata": {},
   "source": [
    "Import all the necessary packages"
   ]
  },
  {
   "cell_type": "code",
   "execution_count": 1,
   "id": "3d465154-6ab2-446b-ab45-b7ffed9d0c16",
   "metadata": {},
   "outputs": [],
   "source": [
    "# Package for HTTP requests\n",
    "import requests as rq\n",
    "\n",
    "# Regular experssions package\n",
    "import re\n",
    "\n",
    "# Import Pandas package\n",
    "import pandas as pd\n",
    "\n",
    "# Dates and time\n",
    "import datetime as dt\n",
    "\n",
    "# For comparing sequences (string for example)\n",
    "import difflib"
   ]
  },
  {
   "cell_type": "markdown",
   "id": "973f1c26-cffe-460f-9455-ae1de96053e0",
   "metadata": {},
   "source": [
    "### Read original data from the CAO website"
   ]
  },
  {
   "cell_type": "markdown",
   "id": "74804f7b-37ac-4a4a-8a78-fad9a95317cb",
   "metadata": {},
   "source": [
    "#### Read the 2021 points"
   ]
  },
  {
   "cell_type": "code",
   "execution_count": 2,
   "id": "921f7faf-975a-4049-8789-467a87ed04a5",
   "metadata": {},
   "outputs": [
    {
     "data": {
      "text/plain": [
       "<Response [200]>"
      ]
     },
     "execution_count": 2,
     "metadata": {},
     "output_type": "execute_result"
    }
   ],
   "source": [
    "# URL of the page with the 2021 CAO points\n",
    "url = 'http://www2.cao.ie/points/l8.php'\n",
    "\n",
    "# Fetch the CAO points URL\n",
    "resp = rq.get(url)\n",
    "\n",
    "resp"
   ]
  },
  {
   "cell_type": "markdown",
   "id": "da7199f5-faa6-4559-89e7-0a65b3933128",
   "metadata": {},
   "source": [
    "#### Read the 2020 data"
   ]
  },
  {
   "cell_type": "code",
   "execution_count": 3,
   "id": "f6135b3b-85ea-44bb-8046-066becbd0de9",
   "metadata": {},
   "outputs": [],
   "source": [
    "# Read the file directly from the CAO website\n",
    "df21 = pd.read_excel('http://www2.cao.ie/points/CAOPointsCharts2020.xlsx', skiprows=10)"
   ]
  },
  {
   "cell_type": "code",
   "execution_count": 4,
   "id": "30c8a586-9640-4a43-b65e-b4715b0a92cc",
   "metadata": {},
   "outputs": [
    {
     "data": {
      "text/plain": [
       "(1464, 23)"
      ]
     },
     "execution_count": 4,
     "metadata": {},
     "output_type": "execute_result"
    }
   ],
   "source": [
    "# Check the shape of the dataframe\n",
    "df21.shape"
   ]
  },
  {
   "cell_type": "code",
   "execution_count": 5,
   "id": "765740b4-6125-404e-a7ec-0283d2243800",
   "metadata": {},
   "outputs": [
    {
     "data": {
      "text/html": [
       "<div>\n",
       "<style scoped>\n",
       "    .dataframe tbody tr th:only-of-type {\n",
       "        vertical-align: middle;\n",
       "    }\n",
       "\n",
       "    .dataframe tbody tr th {\n",
       "        vertical-align: top;\n",
       "    }\n",
       "\n",
       "    .dataframe thead th {\n",
       "        text-align: right;\n",
       "    }\n",
       "</style>\n",
       "<table border=\"1\" class=\"dataframe\">\n",
       "  <thead>\n",
       "    <tr style=\"text-align: right;\">\n",
       "      <th></th>\n",
       "      <th>CATEGORY (i.e.ISCED description)</th>\n",
       "      <th>COURSE TITLE</th>\n",
       "      <th>COURSE CODE2</th>\n",
       "      <th>R1 POINTS</th>\n",
       "      <th>R1 Random *</th>\n",
       "      <th>R2 POINTS</th>\n",
       "      <th>R2 Random*</th>\n",
       "      <th>EOS</th>\n",
       "      <th>EOS Random *</th>\n",
       "      <th>EOS Mid-point</th>\n",
       "      <th>...</th>\n",
       "      <th>avp</th>\n",
       "      <th>v</th>\n",
       "      <th>Column1</th>\n",
       "      <th>Column2</th>\n",
       "      <th>Column3</th>\n",
       "      <th>Column4</th>\n",
       "      <th>Column5</th>\n",
       "      <th>Column6</th>\n",
       "      <th>Column7</th>\n",
       "      <th>Column8</th>\n",
       "    </tr>\n",
       "  </thead>\n",
       "  <tbody>\n",
       "    <tr>\n",
       "      <th>0</th>\n",
       "      <td>Business and administration</td>\n",
       "      <td>International Business</td>\n",
       "      <td>AC120</td>\n",
       "      <td>209</td>\n",
       "      <td>NaN</td>\n",
       "      <td>NaN</td>\n",
       "      <td>NaN</td>\n",
       "      <td>209</td>\n",
       "      <td>NaN</td>\n",
       "      <td>280</td>\n",
       "      <td>...</td>\n",
       "      <td>NaN</td>\n",
       "      <td>NaN</td>\n",
       "      <td>NaN</td>\n",
       "      <td>NaN</td>\n",
       "      <td>NaN</td>\n",
       "      <td>NaN</td>\n",
       "      <td>NaN</td>\n",
       "      <td>NaN</td>\n",
       "      <td>NaN</td>\n",
       "      <td>NaN</td>\n",
       "    </tr>\n",
       "    <tr>\n",
       "      <th>1</th>\n",
       "      <td>Humanities (except languages)</td>\n",
       "      <td>Liberal Arts</td>\n",
       "      <td>AC137</td>\n",
       "      <td>252</td>\n",
       "      <td>NaN</td>\n",
       "      <td>NaN</td>\n",
       "      <td>NaN</td>\n",
       "      <td>252</td>\n",
       "      <td>NaN</td>\n",
       "      <td>270</td>\n",
       "      <td>...</td>\n",
       "      <td>NaN</td>\n",
       "      <td>NaN</td>\n",
       "      <td>NaN</td>\n",
       "      <td>NaN</td>\n",
       "      <td>NaN</td>\n",
       "      <td>NaN</td>\n",
       "      <td>NaN</td>\n",
       "      <td>NaN</td>\n",
       "      <td>NaN</td>\n",
       "      <td>NaN</td>\n",
       "    </tr>\n",
       "    <tr>\n",
       "      <th>2</th>\n",
       "      <td>Arts</td>\n",
       "      <td>First Year Art &amp; Design (Common Entry,portfolio)</td>\n",
       "      <td>AD101</td>\n",
       "      <td>#+matric</td>\n",
       "      <td>NaN</td>\n",
       "      <td>NaN</td>\n",
       "      <td>NaN</td>\n",
       "      <td>#+matric</td>\n",
       "      <td>NaN</td>\n",
       "      <td>#+matric</td>\n",
       "      <td>...</td>\n",
       "      <td>NaN</td>\n",
       "      <td>NaN</td>\n",
       "      <td>NaN</td>\n",
       "      <td>NaN</td>\n",
       "      <td>NaN</td>\n",
       "      <td>NaN</td>\n",
       "      <td>NaN</td>\n",
       "      <td>NaN</td>\n",
       "      <td>NaN</td>\n",
       "      <td>NaN</td>\n",
       "    </tr>\n",
       "    <tr>\n",
       "      <th>3</th>\n",
       "      <td>Arts</td>\n",
       "      <td>Graphic Design and Moving Image Design (portfo...</td>\n",
       "      <td>AD102</td>\n",
       "      <td>#+matric</td>\n",
       "      <td>NaN</td>\n",
       "      <td>NaN</td>\n",
       "      <td>NaN</td>\n",
       "      <td>#+matric</td>\n",
       "      <td>NaN</td>\n",
       "      <td>#+matric</td>\n",
       "      <td>...</td>\n",
       "      <td>NaN</td>\n",
       "      <td>NaN</td>\n",
       "      <td>NaN</td>\n",
       "      <td>NaN</td>\n",
       "      <td>NaN</td>\n",
       "      <td>NaN</td>\n",
       "      <td>NaN</td>\n",
       "      <td>NaN</td>\n",
       "      <td>NaN</td>\n",
       "      <td>NaN</td>\n",
       "    </tr>\n",
       "    <tr>\n",
       "      <th>4</th>\n",
       "      <td>Arts</td>\n",
       "      <td>Textile &amp; Surface Design and Jewellery &amp; Objec...</td>\n",
       "      <td>AD103</td>\n",
       "      <td>#+matric</td>\n",
       "      <td>NaN</td>\n",
       "      <td>NaN</td>\n",
       "      <td>NaN</td>\n",
       "      <td>#+matric</td>\n",
       "      <td>NaN</td>\n",
       "      <td>#+matric</td>\n",
       "      <td>...</td>\n",
       "      <td>NaN</td>\n",
       "      <td>NaN</td>\n",
       "      <td>NaN</td>\n",
       "      <td>NaN</td>\n",
       "      <td>NaN</td>\n",
       "      <td>NaN</td>\n",
       "      <td>NaN</td>\n",
       "      <td>NaN</td>\n",
       "      <td>NaN</td>\n",
       "      <td>NaN</td>\n",
       "    </tr>\n",
       "  </tbody>\n",
       "</table>\n",
       "<p>5 rows × 23 columns</p>\n",
       "</div>"
      ],
      "text/plain": [
       "  CATEGORY (i.e.ISCED description)  \\\n",
       "0      Business and administration   \n",
       "1    Humanities (except languages)   \n",
       "2                             Arts   \n",
       "3                             Arts   \n",
       "4                             Arts   \n",
       "\n",
       "                                        COURSE TITLE COURSE CODE2 R1 POINTS  \\\n",
       "0                             International Business        AC120       209   \n",
       "1                                       Liberal Arts        AC137       252   \n",
       "2   First Year Art & Design (Common Entry,portfolio)        AD101  #+matric   \n",
       "3  Graphic Design and Moving Image Design (portfo...        AD102  #+matric   \n",
       "4  Textile & Surface Design and Jewellery & Objec...        AD103  #+matric   \n",
       "\n",
       "  R1 Random * R2 POINTS R2 Random*       EOS EOS Random * EOS Mid-point  ...  \\\n",
       "0         NaN       NaN        NaN       209          NaN           280  ...   \n",
       "1         NaN       NaN        NaN       252          NaN           270  ...   \n",
       "2         NaN       NaN        NaN  #+matric          NaN      #+matric  ...   \n",
       "3         NaN       NaN        NaN  #+matric          NaN      #+matric  ...   \n",
       "4         NaN       NaN        NaN  #+matric          NaN      #+matric  ...   \n",
       "\n",
       "   avp    v Column1 Column2 Column3  Column4  Column5  Column6  Column7  \\\n",
       "0  NaN  NaN     NaN     NaN     NaN      NaN      NaN      NaN      NaN   \n",
       "1  NaN  NaN     NaN     NaN     NaN      NaN      NaN      NaN      NaN   \n",
       "2  NaN  NaN     NaN     NaN     NaN      NaN      NaN      NaN      NaN   \n",
       "3  NaN  NaN     NaN     NaN     NaN      NaN      NaN      NaN      NaN   \n",
       "4  NaN  NaN     NaN     NaN     NaN      NaN      NaN      NaN      NaN   \n",
       "\n",
       "   Column8  \n",
       "0      NaN  \n",
       "1      NaN  \n",
       "2      NaN  \n",
       "3      NaN  \n",
       "4      NaN  \n",
       "\n",
       "[5 rows x 23 columns]"
      ]
     },
     "execution_count": 5,
     "metadata": {},
     "output_type": "execute_result"
    }
   ],
   "source": [
    "# Show 5 first rows of the dataframe\n",
    "df21.head()"
   ]
  },
  {
   "cell_type": "markdown",
   "id": "6d99b3fa-60c8-4b97-88b5-ab19dbabf159",
   "metadata": {},
   "source": [
    "Columns named Column1-Column8 serve no purpose, they need to be removed. First I will list all the columns in the dataframe and then use it as a reference for removing them:"
   ]
  },
  {
   "cell_type": "code",
   "execution_count": 14,
   "id": "b902f9aa-e8dc-4f8e-91eb-bdc1bd65ff35",
   "metadata": {},
   "outputs": [
    {
     "data": {
      "text/plain": [
       "Index(['CATEGORY (i.e.ISCED description)', 'COURSE TITLE', 'COURSE CODE2',\n",
       "       'R1 POINTS', 'R1 Random *', 'R2 POINTS', 'R2 Random*', 'EOS',\n",
       "       'EOS Random *', 'EOS Mid-point', 'LEVEL', 'HEI', 'Test/Interview #',\n",
       "       'avp', 'v', 'Column1', 'Column2', 'Column3', 'Column4', 'Column5',\n",
       "       'Column6', 'Column7', 'Column8'],\n",
       "      dtype='object')"
      ]
     },
     "execution_count": 14,
     "metadata": {},
     "output_type": "execute_result"
    }
   ],
   "source": [
    "# List the columns in the datafarme\n",
    "df21.columns"
   ]
  },
  {
   "cell_type": "code",
   "execution_count": 15,
   "id": "ff8bf454-b2da-46dc-bdfb-7d718745d359",
   "metadata": {},
   "outputs": [],
   "source": [
    "# There are 23 columns in the dataframe, we need to remove 8, so we'll remove the columns from 15 to 23:\n",
    "df21 = df21.drop(df21.columns[15:23], axis=1)"
   ]
  },
  {
   "cell_type": "code",
   "execution_count": 16,
   "id": "b1466ba8-def7-452d-863d-ff9dd2bdfd4b",
   "metadata": {},
   "outputs": [
    {
     "data": {
      "text/html": [
       "<div>\n",
       "<style scoped>\n",
       "    .dataframe tbody tr th:only-of-type {\n",
       "        vertical-align: middle;\n",
       "    }\n",
       "\n",
       "    .dataframe tbody tr th {\n",
       "        vertical-align: top;\n",
       "    }\n",
       "\n",
       "    .dataframe thead th {\n",
       "        text-align: right;\n",
       "    }\n",
       "</style>\n",
       "<table border=\"1\" class=\"dataframe\">\n",
       "  <thead>\n",
       "    <tr style=\"text-align: right;\">\n",
       "      <th></th>\n",
       "      <th>CATEGORY (i.e.ISCED description)</th>\n",
       "      <th>COURSE TITLE</th>\n",
       "      <th>COURSE CODE2</th>\n",
       "      <th>R1 POINTS</th>\n",
       "      <th>R1 Random *</th>\n",
       "      <th>R2 POINTS</th>\n",
       "      <th>R2 Random*</th>\n",
       "      <th>EOS</th>\n",
       "      <th>EOS Random *</th>\n",
       "      <th>EOS Mid-point</th>\n",
       "      <th>LEVEL</th>\n",
       "      <th>HEI</th>\n",
       "      <th>Test/Interview #</th>\n",
       "      <th>avp</th>\n",
       "      <th>v</th>\n",
       "    </tr>\n",
       "  </thead>\n",
       "  <tbody>\n",
       "    <tr>\n",
       "      <th>0</th>\n",
       "      <td>Business and administration</td>\n",
       "      <td>International Business</td>\n",
       "      <td>AC120</td>\n",
       "      <td>209</td>\n",
       "      <td>NaN</td>\n",
       "      <td>NaN</td>\n",
       "      <td>NaN</td>\n",
       "      <td>209</td>\n",
       "      <td>NaN</td>\n",
       "      <td>280</td>\n",
       "      <td>8</td>\n",
       "      <td>American College</td>\n",
       "      <td>NaN</td>\n",
       "      <td>NaN</td>\n",
       "      <td>NaN</td>\n",
       "    </tr>\n",
       "    <tr>\n",
       "      <th>1</th>\n",
       "      <td>Humanities (except languages)</td>\n",
       "      <td>Liberal Arts</td>\n",
       "      <td>AC137</td>\n",
       "      <td>252</td>\n",
       "      <td>NaN</td>\n",
       "      <td>NaN</td>\n",
       "      <td>NaN</td>\n",
       "      <td>252</td>\n",
       "      <td>NaN</td>\n",
       "      <td>270</td>\n",
       "      <td>8</td>\n",
       "      <td>American College</td>\n",
       "      <td>NaN</td>\n",
       "      <td>NaN</td>\n",
       "      <td>NaN</td>\n",
       "    </tr>\n",
       "    <tr>\n",
       "      <th>2</th>\n",
       "      <td>Arts</td>\n",
       "      <td>First Year Art &amp; Design (Common Entry,portfolio)</td>\n",
       "      <td>AD101</td>\n",
       "      <td>#+matric</td>\n",
       "      <td>NaN</td>\n",
       "      <td>NaN</td>\n",
       "      <td>NaN</td>\n",
       "      <td>#+matric</td>\n",
       "      <td>NaN</td>\n",
       "      <td>#+matric</td>\n",
       "      <td>8</td>\n",
       "      <td>National College of Art and Design</td>\n",
       "      <td>#</td>\n",
       "      <td>NaN</td>\n",
       "      <td>NaN</td>\n",
       "    </tr>\n",
       "    <tr>\n",
       "      <th>3</th>\n",
       "      <td>Arts</td>\n",
       "      <td>Graphic Design and Moving Image Design (portfo...</td>\n",
       "      <td>AD102</td>\n",
       "      <td>#+matric</td>\n",
       "      <td>NaN</td>\n",
       "      <td>NaN</td>\n",
       "      <td>NaN</td>\n",
       "      <td>#+matric</td>\n",
       "      <td>NaN</td>\n",
       "      <td>#+matric</td>\n",
       "      <td>8</td>\n",
       "      <td>National College of Art and Design</td>\n",
       "      <td>#</td>\n",
       "      <td>NaN</td>\n",
       "      <td>NaN</td>\n",
       "    </tr>\n",
       "    <tr>\n",
       "      <th>4</th>\n",
       "      <td>Arts</td>\n",
       "      <td>Textile &amp; Surface Design and Jewellery &amp; Objec...</td>\n",
       "      <td>AD103</td>\n",
       "      <td>#+matric</td>\n",
       "      <td>NaN</td>\n",
       "      <td>NaN</td>\n",
       "      <td>NaN</td>\n",
       "      <td>#+matric</td>\n",
       "      <td>NaN</td>\n",
       "      <td>#+matric</td>\n",
       "      <td>8</td>\n",
       "      <td>National College of Art and Design</td>\n",
       "      <td>#</td>\n",
       "      <td>NaN</td>\n",
       "      <td>NaN</td>\n",
       "    </tr>\n",
       "  </tbody>\n",
       "</table>\n",
       "</div>"
      ],
      "text/plain": [
       "  CATEGORY (i.e.ISCED description)  \\\n",
       "0      Business and administration   \n",
       "1    Humanities (except languages)   \n",
       "2                             Arts   \n",
       "3                             Arts   \n",
       "4                             Arts   \n",
       "\n",
       "                                        COURSE TITLE COURSE CODE2 R1 POINTS  \\\n",
       "0                             International Business        AC120       209   \n",
       "1                                       Liberal Arts        AC137       252   \n",
       "2   First Year Art & Design (Common Entry,portfolio)        AD101  #+matric   \n",
       "3  Graphic Design and Moving Image Design (portfo...        AD102  #+matric   \n",
       "4  Textile & Surface Design and Jewellery & Objec...        AD103  #+matric   \n",
       "\n",
       "  R1 Random * R2 POINTS R2 Random*       EOS EOS Random * EOS Mid-point  \\\n",
       "0         NaN       NaN        NaN       209          NaN           280   \n",
       "1         NaN       NaN        NaN       252          NaN           270   \n",
       "2         NaN       NaN        NaN  #+matric          NaN      #+matric   \n",
       "3         NaN       NaN        NaN  #+matric          NaN      #+matric   \n",
       "4         NaN       NaN        NaN  #+matric          NaN      #+matric   \n",
       "\n",
       "   LEVEL                                 HEI Test/Interview #  avp    v  \n",
       "0      8                    American College              NaN  NaN  NaN  \n",
       "1      8                    American College              NaN  NaN  NaN  \n",
       "2      8  National College of Art and Design                #  NaN  NaN  \n",
       "3      8  National College of Art and Design                #  NaN  NaN  \n",
       "4      8  National College of Art and Design                #  NaN  NaN  "
      ]
     },
     "execution_count": 16,
     "metadata": {},
     "output_type": "execute_result"
    }
   ],
   "source": [
    "# Check teh head of the dataframe to make sure correct columns were removed\n",
    "df21.head()"
   ]
  },
  {
   "cell_type": "markdown",
   "id": "308afadd-afcf-426c-846d-73017b2f4593",
   "metadata": {},
   "source": [
    "<br>\n",
    "\n",
    "## Save the original data\n",
    "***"
   ]
  },
  {
   "cell_type": "code",
   "execution_count": null,
   "id": "664cc636-fd50-4921-9ce3-ac58b052cc0a",
   "metadata": {},
   "outputs": [],
   "source": [
    "# get the current date and time\n",
    "now = dt.datetime.now()\n",
    "\n",
    "now_string = now.strftime('%Y%m%d_%H%M%S')"
   ]
  },
  {
   "cell_type": "code",
   "execution_count": null,
   "id": "a20d1ef3-ca1e-434a-b327-7ae6e97ce6ce",
   "metadata": {},
   "outputs": [],
   "source": [
    "# Create a filepath with a current timestamp for the original data\n",
    "filepath = 'data/cao2021_' + now_string + '.html'"
   ]
  },
  {
   "cell_type": "code",
   "execution_count": null,
   "id": "a179e2b0-f962-4096-b92d-3f7dfdbf4ec4",
   "metadata": {},
   "outputs": [],
   "source": [
    "# Server uses wron encoding, we need to fix it\n",
    "orig_encoding = resp.encoding\n",
    "\n",
    "# We need to use 'cp1252' endcoding\n",
    "new_encoding = 'cp1252'\n",
    "\n",
    "#change to cp1252\n",
    "resp.encoding = new_encoding"
   ]
  },
  {
   "cell_type": "code",
   "execution_count": null,
   "id": "cb274695-4062-4e4a-a31f-1954ce6b0369",
   "metadata": {},
   "outputs": [],
   "source": [
    "# Save the original html file in csv format\n",
    "with open(filepath, 'w') as f:\n",
    "    f.write(resp.text)"
   ]
  },
  {
   "cell_type": "markdown",
   "id": "7cbb1b16-b1d1-40bd-860f-b5d3a836e1e7",
   "metadata": {},
   "source": [
    "<br>\n",
    "\n",
    "## Clean the data\n",
    "***"
   ]
  },
  {
   "cell_type": "code",
   "execution_count": null,
   "id": "b2434423-3e09-493b-98a3-d5fa38d051ef",
   "metadata": {},
   "outputs": [],
   "source": [
    "# compile regular expression to find all the numbers in the String\n",
    "points = re.compile('[0-9]+')"
   ]
  },
  {
   "cell_type": "code",
   "execution_count": null,
   "id": "e1713df1-6e69-4e7f-aece-f93a67f40450",
   "metadata": {},
   "outputs": [],
   "source": [
    "def extract_points(chunk):\n",
    "    # Match all the numbers in the string\n",
    "    pnt = points.search(chunk)\n",
    "\n",
    "    # Find the difference between the starting string and the found numbers\n",
    "    # In order to extract any special requirements like *, # etc\n",
    "    # Solution found on:\n",
    "    # https://stackoverflow.com/questions/17904097/python-difference-between-two-strings\n",
    "    diff = [li.replace('+ ','') for li in difflib.ndiff(pnt.group(0), chunk) if li[0] != ' ']\n",
    "    \n",
    "    return pnt.group(0), ' '.join(diff)"
   ]
  },
  {
   "cell_type": "code",
   "execution_count": null,
   "id": "b14207da-4ab7-4998-99c4-5a69b500a977",
   "metadata": {},
   "outputs": [],
   "source": [
    "# Define the function for splitting the lines\n",
    "\n",
    "def split_dline(input_line):\n",
    "    \n",
    "    result = []\n",
    "    \n",
    "    # split the line by 3 or more spaces (2 spaces are not enough as there are 2 spaces in some of the courses descriptions)\n",
    "    space_separated = re.split('   +', input_line)\n",
    "    \n",
    "    # The first string in the resulting list is the course code and title, in the format: 'AL801  Software Design for Virtual Reality and Gaming'\n",
    "    code_title = space_separated[0]   \n",
    "    \n",
    "    # The code is first 5 characters \n",
    "    result.append(code_title[0:5])\n",
    "            \n",
    "    # The title starts at 7th location\n",
    "    result.append(code_title[7:len(code_title)])\n",
    "    \n",
    "    # Append Round 1 points limits and extract any special requirements\n",
    "    try:\n",
    "        pts, spec = extract_points(space_separated[1])\n",
    "        \n",
    "        result.append(pts)\n",
    "        result.append(spec)     \n",
    "        \n",
    "    except AttributeError:\n",
    "        result.append(\"n/a\")\n",
    "        result.append(\"\")\n",
    "        \n",
    "    try:     \n",
    "        pts, spec = extract_points(space_separated[2])\n",
    "        \n",
    "        result.append(pts)\n",
    "        result.append(spec)\n",
    "        \n",
    "    except IndexError:\n",
    "        result.append(\"n/a\")\n",
    "    except AttributeError:\n",
    "        result.append(\"n/a\")\n",
    "    \n",
    "    # Join code, title an the rest of the line into one coma separated line:\n",
    "    result = ','.join(result)  + '\\n'\n",
    "    \n",
    "    return result"
   ]
  },
  {
   "cell_type": "code",
   "execution_count": null,
   "id": "96d1608c-3c06-451b-84bd-4b0cf8f2ec6d",
   "metadata": {},
   "outputs": [],
   "source": [
    "# Compile the reqular expression for matching lines\n",
    "#re_courses = re.compile(r'([A-Z]{2}[0-9]{3})  (.*)  ([0-9]{3}\\*?)( [0-9]{3})? *')\n",
    "re_all_courses = re.compile('[A-Z]{2}[0-9]{3}')"
   ]
  },
  {
   "cell_type": "code",
   "execution_count": null,
   "id": "18a9e19d-9cfe-449a-91b1-d743982772c9",
   "metadata": {},
   "outputs": [],
   "source": [
    "# Create a path for csv file\n",
    "filepath = 'data/cao2021_' + now_string + '.csv'\n",
    "\n",
    "# loop through the lines of the sesponse content\n",
    "no_lines = 0\n",
    "\n",
    "# Open the csv file for writing\n",
    "with open(filepath, 'w') as f:\n",
    "    for line in resp.iter_lines():\n",
    "    \n",
    "        dline = line.decode(new_encoding)\n",
    "        \n",
    "        # Check if line starts with two capital letters followed by three numbers: ('[A-Z]{2}[0-9]{3}')\n",
    "        matched = re_all_courses.match(dline)\n",
    "        if matched:    \n",
    "            \n",
    "            # write a slit line into the csv file\n",
    "            f.write(split_dline(dline))\n",
    "            \n",
    "            # count number of matching lines\n",
    "            no_lines = no_lines + 1\n",
    "\n",
    "print(\"Number of courses found {}\".format(no_lines))"
   ]
  },
  {
   "cell_type": "code",
   "execution_count": null,
   "id": "60071859-9985-46d4-8d82-40a2a0d71811",
   "metadata": {},
   "outputs": [],
   "source": []
  },
  {
   "cell_type": "code",
   "execution_count": null,
   "id": "773721b8-3440-4b0f-9ba3-509c4fb4ae6e",
   "metadata": {},
   "outputs": [],
   "source": []
  },
  {
   "cell_type": "markdown",
   "id": "985e7828-4a1c-468f-8c91-f2730d7a9ddf",
   "metadata": {},
   "source": [
    "## References"
   ]
  },
  {
   "cell_type": "markdown",
   "id": "e2b2dbad-462c-4471-858f-450590081771",
   "metadata": {},
   "source": [
    "# End\n"
   ]
  }
 ],
 "metadata": {
  "kernelspec": {
   "display_name": "Python 3 (ipykernel)",
   "language": "python",
   "name": "python3"
  },
  "language_info": {
   "codemirror_mode": {
    "name": "ipython",
    "version": 3
   },
   "file_extension": ".py",
   "mimetype": "text/x-python",
   "name": "python",
   "nbconvert_exporter": "python",
   "pygments_lexer": "ipython3",
   "version": "3.8.11"
  }
 },
 "nbformat": 4,
 "nbformat_minor": 5
}
