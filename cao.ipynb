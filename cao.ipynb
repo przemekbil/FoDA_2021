{
 "cells": [
  {
   "cell_type": "markdown",
   "id": "96aa6171-4e51-405b-8998-6f14ed8f1cc3",
   "metadata": {},
   "source": [
    "# CAO Points Notebook\n",
    "\n",
    "***"
   ]
  },
  {
   "cell_type": "markdown",
   "id": "31d62994-45b4-4adb-951d-20df06b67040",
   "metadata": {},
   "source": [
    "Import all the necessary packages"
   ]
  },
  {
   "cell_type": "code",
   "execution_count": 1,
   "id": "3d465154-6ab2-446b-ab45-b7ffed9d0c16",
   "metadata": {},
   "outputs": [],
   "source": [
    "# Package for HTTP requests\n",
    "import requests as rq\n",
    "\n",
    "# Regular experssions package\n",
    "import re\n",
    "\n",
    "# Dates and time\n",
    "import datetime as dt"
   ]
  },
  {
   "cell_type": "code",
   "execution_count": 2,
   "id": "921f7faf-975a-4049-8789-467a87ed04a5",
   "metadata": {},
   "outputs": [
    {
     "data": {
      "text/plain": [
       "<Response [200]>"
      ]
     },
     "execution_count": 2,
     "metadata": {},
     "output_type": "execute_result"
    }
   ],
   "source": [
    "url = 'http://www2.cao.ie/points/l8.php'\n",
    "\n",
    "# Fetch the CAO points URL\n",
    "resp = rq.get(url)\n",
    "\n",
    "resp"
   ]
  },
  {
   "cell_type": "markdown",
   "id": "308afadd-afcf-426c-846d-73017b2f4593",
   "metadata": {},
   "source": [
    "<br>\n",
    "\n",
    "## Save the original data\n",
    "***"
   ]
  },
  {
   "cell_type": "code",
   "execution_count": 3,
   "id": "664cc636-fd50-4921-9ce3-ac58b052cc0a",
   "metadata": {},
   "outputs": [],
   "source": [
    "# get the current date and time\n",
    "now = dt.datetime.now()\n",
    "\n",
    "now_string = now.strftime('%Y%m%d_%H%M%S')"
   ]
  },
  {
   "cell_type": "code",
   "execution_count": 4,
   "id": "a20d1ef3-ca1e-434a-b327-7ae6e97ce6ce",
   "metadata": {},
   "outputs": [],
   "source": [
    "# Create a filepath with a current timestamp for the original data\n",
    "filepath = 'data/cao2021_' + now_string + '.html'"
   ]
  },
  {
   "cell_type": "code",
   "execution_count": 5,
   "id": "a179e2b0-f962-4096-b92d-3f7dfdbf4ec4",
   "metadata": {},
   "outputs": [],
   "source": [
    "# Server uses wron encoding, we need to fix it\n",
    "orig_encoding = resp.encoding\n",
    "\n",
    "# We need to use 'cp1252' endcoding\n",
    "new_encoding = 'cp1252'\n",
    "\n",
    "#change to cp1252\n",
    "resp.encoding = new_encoding"
   ]
  },
  {
   "cell_type": "code",
   "execution_count": 6,
   "id": "cb274695-4062-4e4a-a31f-1954ce6b0369",
   "metadata": {},
   "outputs": [],
   "source": [
    "# Save the original html file in csv format\n",
    "with open(filepath, 'w') as f:\n",
    "    f.write(resp.text)"
   ]
  },
  {
   "cell_type": "code",
   "execution_count": 7,
   "id": "96d1608c-3c06-451b-84bd-4b0cf8f2ec6d",
   "metadata": {},
   "outputs": [],
   "source": [
    "# Compile the reqular expression for matching lines\n",
    "re_courses = re.compile(r'([A-Z]{2}[0-9]{3})  (.*)  ([0-9]{3}\\*?)( [0-9]{3})? *')\n",
    "re_all_courses = re.compile('[A-Z]{2}[0-9]{3}')"
   ]
  },
  {
   "cell_type": "code",
   "execution_count": 33,
   "id": "b14207da-4ab7-4998-99c4-5a69b500a977",
   "metadata": {},
   "outputs": [],
   "source": [
    "# Define function for splitting the lines\n",
    "\n",
    "def split_dline(input_line):\n",
    "    \n",
    "    # split the line by 3 or more spaces (2 spaces are not enough as there are 2 spaces in some of the courses descriptions)\n",
    "    space_separated = re.split('   +', input_line)\n",
    "    \n",
    "    # fisrt string in the resulting list is the course code and title like: 'AL801  Software Design for Virtual Reality and Gaming'\n",
    "    code_title = space_separated[0]   \n",
    "    \n",
    "    # The code is first 5 characters \n",
    "    code = code_title[0:5]   \n",
    "            \n",
    "    # The title starts at 7th location\n",
    "    title= code_title[7:len(code_title)] \n",
    "    \n",
    "    # Join code, title an the rest of the line (starting from location 1) into one coma separated line:\n",
    "    result = code +',' + title+','+','.join(space_separated[1:len(space_separated)])  + '\\n'\n",
    "    \n",
    "    return result"
   ]
  },
  {
   "cell_type": "code",
   "execution_count": 34,
   "id": "18a9e19d-9cfe-449a-91b1-d743982772c9",
   "metadata": {},
   "outputs": [
    {
     "name": "stdout",
     "output_type": "stream",
     "text": [
      "Number of courses found 949\n"
     ]
    }
   ],
   "source": [
    "# Create a path for csv file\n",
    "filepath = 'data/cao2021_' + now_string + '.csv'\n",
    "\n",
    "# loop through the lines of the sesponse content\n",
    "no_lines = 0\n",
    "\n",
    "# Open the csv file for writing\n",
    "with open(filepath, 'w') as f:\n",
    "    for line in resp.iter_lines():\n",
    "    \n",
    "        dline = line.decode(new_encoding)\n",
    "        \n",
    "        # Check if line starts with two capital letters followed by three numbers: ('[A-Z]{2}[0-9]{3}')\n",
    "        matched = re_all_courses.match(dline)\n",
    "        if matched:    \n",
    "            \n",
    "            \n",
    "            f.write(split_dline(dline))\n",
    "            \n",
    "            # count number of matching lines\n",
    "            no_lines = no_lines + 1\n",
    "\n",
    "print(\"Number of courses found {}\".format(no_lines))"
   ]
  },
  {
   "cell_type": "code",
   "execution_count": null,
   "id": "60071859-9985-46d4-8d82-40a2a0d71811",
   "metadata": {},
   "outputs": [],
   "source": []
  },
  {
   "cell_type": "code",
   "execution_count": null,
   "id": "773721b8-3440-4b0f-9ba3-509c4fb4ae6e",
   "metadata": {},
   "outputs": [],
   "source": []
  },
  {
   "cell_type": "markdown",
   "id": "985e7828-4a1c-468f-8c91-f2730d7a9ddf",
   "metadata": {},
   "source": [
    "## References"
   ]
  },
  {
   "cell_type": "markdown",
   "id": "e2b2dbad-462c-4471-858f-450590081771",
   "metadata": {},
   "source": [
    "# End\n"
   ]
  }
 ],
 "metadata": {
  "kernelspec": {
   "display_name": "Python 3 (ipykernel)",
   "language": "python",
   "name": "python3"
  },
  "language_info": {
   "codemirror_mode": {
    "name": "ipython",
    "version": 3
   },
   "file_extension": ".py",
   "mimetype": "text/x-python",
   "name": "python",
   "nbconvert_exporter": "python",
   "pygments_lexer": "ipython3",
   "version": "3.8.11"
  }
 },
 "nbformat": 4,
 "nbformat_minor": 5
}
