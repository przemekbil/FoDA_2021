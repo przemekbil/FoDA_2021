{
 "cells": [
  {
   "cell_type": "markdown",
   "id": "96aa6171-4e51-405b-8998-6f14ed8f1cc3",
   "metadata": {},
   "source": [
    "# CAO Points Notebook\n",
    "\n",
    "***"
   ]
  },
  {
   "cell_type": "markdown",
   "id": "31d62994-45b4-4adb-951d-20df06b67040",
   "metadata": {},
   "source": [
    "Import all the necessary packages"
   ]
  },
  {
   "cell_type": "code",
   "execution_count": null,
   "id": "3d465154-6ab2-446b-ab45-b7ffed9d0c16",
   "metadata": {},
   "outputs": [],
   "source": []
  },
  {
   "cell_type": "code",
   "execution_count": null,
   "id": "921f7faf-975a-4049-8789-467a87ed04a5",
   "metadata": {},
   "outputs": [],
   "source": []
  },
  {
   "cell_type": "code",
   "execution_count": null,
   "id": "18a9e19d-9cfe-449a-91b1-d743982772c9",
   "metadata": {},
   "outputs": [],
   "source": []
  },
  {
   "cell_type": "code",
   "execution_count": null,
   "id": "60071859-9985-46d4-8d82-40a2a0d71811",
   "metadata": {},
   "outputs": [],
   "source": []
  },
  {
   "cell_type": "code",
   "execution_count": null,
   "id": "773721b8-3440-4b0f-9ba3-509c4fb4ae6e",
   "metadata": {},
   "outputs": [],
   "source": []
  },
  {
   "cell_type": "markdown",
   "id": "985e7828-4a1c-468f-8c91-f2730d7a9ddf",
   "metadata": {},
   "source": [
    "## References"
   ]
  },
  {
   "cell_type": "markdown",
   "id": "e2b2dbad-462c-4471-858f-450590081771",
   "metadata": {},
   "source": [
    "# End\n"
   ]
  }
 ],
 "metadata": {
  "kernelspec": {
   "display_name": "Python 3 (ipykernel)",
   "language": "python",
   "name": "python3"
  },
  "language_info": {
   "codemirror_mode": {
    "name": "ipython",
    "version": 3
   },
   "file_extension": ".py",
   "mimetype": "text/x-python",
   "name": "python",
   "nbconvert_exporter": "python",
   "pygments_lexer": "ipython3",
   "version": "3.8.11"
  }
 },
 "nbformat": 4,
 "nbformat_minor": 5
}
